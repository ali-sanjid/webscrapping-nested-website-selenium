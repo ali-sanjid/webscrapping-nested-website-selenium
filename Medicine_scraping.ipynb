{
 "cells": [
  {
   "cell_type": "code",
   "execution_count": 75,
   "metadata": {},
   "outputs": [],
   "source": [
    "from selenium import webdriver\n",
    "import pandas as pd\n"
   ]
  },
  {
   "cell_type": "code",
   "execution_count": 77,
   "metadata": {},
   "outputs": [],
   "source": [
    "path = \"****\" # please install the chromedriver according to your chrome version from https://chromedriver.chromium.org/downloads and add the path to this\n",
    "driver = webdriver.Chrome(path) #linking chrome driver from the file directory\n",
    "\n",
    "complete_med_info = [] # list that will be appended with all the data\n",
    "\n",
    "def get_data(data):\n",
    "   driver.get(f'https://www.pbs.gov.au/browse/medicine-listing?initial={data}') #parent page directory \n",
    "\n",
    "   #scraping drug type (community , general, public etc) from the parent page:\n",
    "\n",
    "   scrap_drug_type = driver.find_elements_by_class_name('drugtype')\n",
    "   for drug_types in scrap_drug_type:\n",
    "      drug_type = drug_types.text\n",
    "   \n",
    "   #going through pages one by one below:\n",
    "\n",
    "   main_page = driver.find_elements_by_css_selector('#browseby a') #scraping from the parent page \n",
    "   second_nested_page_links = [] # contains the links that will guide to individual medicine pages(eg - 'abacaviar' (first medicine in page 'A'))\n",
    "   \n",
    "   for link in main_page:\n",
    "      second_nested_page_links.append(link.get_attribute(\"href\"))\n",
    "\n",
    "   third_nested_page_links = [] # contains the links that will guide to separe sub-medicines (eg: sublist of abacaviar)\n",
    "\n",
    "   for link in second_nested_page_links:\n",
    "      driver.get(link)\n",
    "      scrap_third_page_links = driver.find_elements_by_class_name(\"view-all\") \n",
    "      \n",
    "      for link in scrap_third_page_links:\n",
    "         third_nested_page_links.append(link.get_attribute(\"href\"))\n",
    "   \n",
    "   med_info = [] #contains the final page information (brands, strength etc) of particular medicines\n",
    "   for web_page in third_nested_page_links:\n",
    "      driver.get(web_page)\n",
    "      scrap_third_page = driver.find_elements_by_id('medicine-item')\n",
    "      \n",
    "      for x in scrap_third_page:\n",
    "         med_name = x.find_element_by_class_name('drug-name').text\n",
    "         med_strength =x.find_element_by_class_name('form-strength').text\n",
    "         available_brand_name_lists= x.find_elements_by_css_selector('.align-left a')\n",
    "         product_codes = x.find_elements_by_css_selector('.align-top a')\n",
    "         available_brands_names_list = []\n",
    "         \n",
    "         for item_codes in product_codes:\n",
    "            product_code = item_codes.text\n",
    "            \n",
    "         for i in available_brand_name_lists:\n",
    "            available_brand_name_texts = i.text\n",
    "            available_brands_names_list.append(available_brand_name_texts)\n",
    "         available_brands = available_brands_names_list[3:]\n",
    "         \n",
    "         available_brand = str(available_brands)[1:-1].replace(\"'\", \"\") #replacing extra brackets and commas so it can be properly converted to dataframe\n",
    "         \n",
    "         #creating a dictionary that will hold all the medicine information\n",
    "         med_info_dict = { 'Medicine_Name' : med_name,\n",
    "         'Drug_Type' : drug_type,\n",
    "         'Product_code' : product_code,\n",
    "         'Medicine_strength' : med_strength,\n",
    "         'Available_Brands' : available_brand}\n",
    "         \n",
    "\n",
    "         med_info.append(med_info_dict)\n",
    "         df = pd.DataFrame(med_info)\n",
    "         \n",
    "       \n",
    "   return pd.DataFrame(df)\n",
    "\n",
    "pages_from_A_Z = list(string.ascii_lowercase) #creating a list A-Z for scraping the pages alphabetically\n",
    "for i in pages_from_A_Z: #using try except methods as not all the letters have medicine starting name\n",
    "   try:\n",
    "      complete_med_info.append(get_data(i))\n",
    "   except:\n",
    "      continue\n",
    "\n",
    "driver.quit()\n"
   ]
  },
  {
   "cell_type": "code",
   "execution_count": 84,
   "metadata": {},
   "outputs": [],
   "source": [
    "combined = pd.concat(complete_med_info) # joining all the individual medicine info (categorically A-Z)\n",
    "combined.index += 1\n",
    "df_with_reset_index = combined.reset_index()\n",
    "combined.index += 1\n",
    "\n",
    "df_with_reset_index.to_csv('medicine_info.csv',index=False)"
   ]
  }
 ],
 "metadata": {
  "kernelspec": {
   "display_name": "Python 3",
   "language": "python",
   "name": "python3"
  },
  "language_info": {
   "codemirror_mode": {
    "name": "ipython",
    "version": 3
   },
   "file_extension": ".py",
   "mimetype": "text/x-python",
   "name": "python",
   "nbconvert_exporter": "python",
   "pygments_lexer": "ipython3",
   "version": "3.10.4 (tags/v3.10.4:9d38120, Mar 23 2022, 23:13:41) [MSC v.1929 64 bit (AMD64)]"
  },
  "orig_nbformat": 4,
  "vscode": {
   "interpreter": {
    "hash": "26de051ba29f2982a8de78e945f0abaf191376122a1563185a90213a26c5da77"
   }
  }
 },
 "nbformat": 4,
 "nbformat_minor": 2
}
